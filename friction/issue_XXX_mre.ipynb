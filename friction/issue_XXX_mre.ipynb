{
 "cells": [
  {
   "cell_type": "code",
   "execution_count": null,
   "id": "46789d03",
   "metadata": {},
   "outputs": [],
   "source": [
    "daft.from_glob_path(\"\")"
   ]
  }
 ],
 "metadata": {
  "language_info": {
   "name": "python"
  }
 },
 "nbformat": 4,
 "nbformat_minor": 5
}
